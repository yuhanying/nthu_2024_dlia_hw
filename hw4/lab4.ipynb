{
  "cells": [
    {
      "cell_type": "markdown",
      "id": "609dcb62-c2f8-4c6d-9c89-63dc0148a87c",
      "metadata": {
        "id": "609dcb62-c2f8-4c6d-9c89-63dc0148a87c"
      },
      "source": [
        "<div align=\"center\">\n",
        "\n",
        "### Lab 4\n",
        "\n",
        "# National Tsing Hua University\n",
        "\n",
        "#### Spring 2024\n",
        "\n",
        "#### 11220IEEM 513600\n",
        "\n",
        "#### Deep Learning and Industrial Applications\n",
        "    \n",
        "## Lab 4: Predicting Stock Price with Deep Learning\n",
        "\n",
        "</div>"
      ]
    },
    {
      "cell_type": "markdown",
      "id": "061c22d2-eec4-40f4-866b-ccaa2d9a2963",
      "metadata": {
        "id": "061c22d2-eec4-40f4-866b-ccaa2d9a2963",
        "jp-MarkdownHeadingCollapsed": true,
        "tags": []
      },
      "source": [
        "### Introduction\n",
        "\n",
        "In this lab, we explore the application of time-series datasets using Long Short-Term Memory (LSTM) networks, a type of recurrent neural network, to predict stock prices. Specifically, we will use historical price data from Nvidia to forecast the stock's price for the next day based on the prices of the previous N days. This approach is particularly relevant given the volatile nature of stock markets and the increasing reliance on automated trading systems.\n",
        "\n",
        "### Objectives\n",
        "\n",
        "- To understand the fundamentals of LSTM networks and their application in time-series forecasting.\n",
        "- To develop a predictive model that can accurately forecast Nvidia's stock price for the next day using historical data.\n",
        "\n",
        "### Dataset\n",
        "\n",
        "The dataset for this lab is from the \"Huge Stock Market Dataset\" available on Kaggle. This dataset includes daily prices and volumes for all US stocks and ETFs, with a specific focus on Nvidia (NVDA). The dataset features include:\n",
        "\n",
        "- **Date**: The recorded data points.\n",
        "- **Open**: The price at which the stock first traded upon the opening of an exchange on a given trading day.\n",
        "- **High**: The highest price at which the stock traded during the trading day.\n",
        "- **Low**: The lowest price at which the stock traded during the trading day.\n",
        "- **Close**: The price of the stock at closing time.\n",
        "- **Volume**: The number of shares or contracts traded in a security or an entire market during a given period.\n",
        "- **OpenInt**: The total number of outstanding derivative contracts, like options or futures. [More details here](https://www.kaggle.com/datasets/borismarjanovic/price-volume-data-for-all-us-stocks-etfs/discussion/121096)\n",
        "\n",
        "### References\n",
        "\n",
        "- [Huge Stock Market Dataset](https://www.kaggle.com/datasets/borismarjanovic/price-volume-data-for-all-us-stocks-etfs) for the dataset used in this lab.\n"
      ]
    },
    {
      "cell_type": "markdown",
      "id": "ad594fc8-4989-40f3-b124-4550fe7df386",
      "metadata": {
        "id": "ad594fc8-4989-40f3-b124-4550fe7df386"
      },
      "source": [
        "## A. Checking and Preprocessing"
      ]
    },
    {
      "cell_type": "code",
      "execution_count": 1,
      "id": "42a3eafd-cbcd-4c56-82cb-83a0bfa2399e",
      "metadata": {
        "id": "42a3eafd-cbcd-4c56-82cb-83a0bfa2399e"
      },
      "outputs": [
        {
          "data": {
            "text/html": [
              "<div>\n",
              "<style scoped>\n",
              "    .dataframe tbody tr th:only-of-type {\n",
              "        vertical-align: middle;\n",
              "    }\n",
              "\n",
              "    .dataframe tbody tr th {\n",
              "        vertical-align: top;\n",
              "    }\n",
              "\n",
              "    .dataframe thead th {\n",
              "        text-align: right;\n",
              "    }\n",
              "</style>\n",
              "<table border=\"1\" class=\"dataframe\">\n",
              "  <thead>\n",
              "    <tr style=\"text-align: right;\">\n",
              "      <th></th>\n",
              "      <th>Date</th>\n",
              "      <th>Open</th>\n",
              "      <th>High</th>\n",
              "      <th>Low</th>\n",
              "      <th>Close</th>\n",
              "      <th>Volume</th>\n",
              "      <th>OpenInt</th>\n",
              "    </tr>\n",
              "  </thead>\n",
              "  <tbody>\n",
              "    <tr>\n",
              "      <th>0</th>\n",
              "      <td>1999-01-22</td>\n",
              "      <td>1.6238</td>\n",
              "      <td>1.8092</td>\n",
              "      <td>1.4379</td>\n",
              "      <td>1.5215</td>\n",
              "      <td>18297633</td>\n",
              "      <td>0</td>\n",
              "    </tr>\n",
              "    <tr>\n",
              "      <th>1</th>\n",
              "      <td>1999-01-25</td>\n",
              "      <td>1.6423</td>\n",
              "      <td>1.6980</td>\n",
              "      <td>1.5215</td>\n",
              "      <td>1.6793</td>\n",
              "      <td>3445279</td>\n",
              "      <td>0</td>\n",
              "    </tr>\n",
              "    <tr>\n",
              "      <th>2</th>\n",
              "      <td>1999-01-26</td>\n",
              "      <td>1.6980</td>\n",
              "      <td>1.7350</td>\n",
              "      <td>1.5311</td>\n",
              "      <td>1.5494</td>\n",
              "      <td>2320993</td>\n",
              "      <td>0</td>\n",
              "    </tr>\n",
              "    <tr>\n",
              "      <th>3</th>\n",
              "      <td>1999-01-27</td>\n",
              "      <td>1.5586</td>\n",
              "      <td>1.5957</td>\n",
              "      <td>1.4660</td>\n",
              "      <td>1.5494</td>\n",
              "      <td>1662658</td>\n",
              "      <td>0</td>\n",
              "    </tr>\n",
              "    <tr>\n",
              "      <th>4</th>\n",
              "      <td>1999-01-28</td>\n",
              "      <td>1.5494</td>\n",
              "      <td>1.5586</td>\n",
              "      <td>1.5311</td>\n",
              "      <td>1.5401</td>\n",
              "      <td>1540110</td>\n",
              "      <td>0</td>\n",
              "    </tr>\n",
              "    <tr>\n",
              "      <th>...</th>\n",
              "      <td>...</td>\n",
              "      <td>...</td>\n",
              "      <td>...</td>\n",
              "      <td>...</td>\n",
              "      <td>...</td>\n",
              "      <td>...</td>\n",
              "      <td>...</td>\n",
              "    </tr>\n",
              "    <tr>\n",
              "      <th>4728</th>\n",
              "      <td>2017-11-06</td>\n",
              "      <td>207.2000</td>\n",
              "      <td>209.9800</td>\n",
              "      <td>206.7000</td>\n",
              "      <td>209.6300</td>\n",
              "      <td>9731783</td>\n",
              "      <td>0</td>\n",
              "    </tr>\n",
              "    <tr>\n",
              "      <th>4729</th>\n",
              "      <td>2017-11-07</td>\n",
              "      <td>210.5500</td>\n",
              "      <td>212.9000</td>\n",
              "      <td>210.0560</td>\n",
              "      <td>212.0000</td>\n",
              "      <td>10671815</td>\n",
              "      <td>0</td>\n",
              "    </tr>\n",
              "    <tr>\n",
              "      <th>4730</th>\n",
              "      <td>2017-11-08</td>\n",
              "      <td>211.8500</td>\n",
              "      <td>212.0000</td>\n",
              "      <td>207.2400</td>\n",
              "      <td>209.1600</td>\n",
              "      <td>13033902</td>\n",
              "      <td>0</td>\n",
              "    </tr>\n",
              "    <tr>\n",
              "      <th>4731</th>\n",
              "      <td>2017-11-09</td>\n",
              "      <td>205.2700</td>\n",
              "      <td>206.3300</td>\n",
              "      <td>200.3700</td>\n",
              "      <td>205.3200</td>\n",
              "      <td>23895006</td>\n",
              "      <td>0</td>\n",
              "    </tr>\n",
              "    <tr>\n",
              "      <th>4732</th>\n",
              "      <td>2017-11-10</td>\n",
              "      <td>213.0800</td>\n",
              "      <td>218.6700</td>\n",
              "      <td>211.6300</td>\n",
              "      <td>216.1400</td>\n",
              "      <td>31300857</td>\n",
              "      <td>0</td>\n",
              "    </tr>\n",
              "  </tbody>\n",
              "</table>\n",
              "<p>4733 rows × 7 columns</p>\n",
              "</div>"
            ],
            "text/plain": [
              "            Date      Open      High       Low     Close    Volume  OpenInt\n",
              "0     1999-01-22    1.6238    1.8092    1.4379    1.5215  18297633        0\n",
              "1     1999-01-25    1.6423    1.6980    1.5215    1.6793   3445279        0\n",
              "2     1999-01-26    1.6980    1.7350    1.5311    1.5494   2320993        0\n",
              "3     1999-01-27    1.5586    1.5957    1.4660    1.5494   1662658        0\n",
              "4     1999-01-28    1.5494    1.5586    1.5311    1.5401   1540110        0\n",
              "...          ...       ...       ...       ...       ...       ...      ...\n",
              "4728  2017-11-06  207.2000  209.9800  206.7000  209.6300   9731783        0\n",
              "4729  2017-11-07  210.5500  212.9000  210.0560  212.0000  10671815        0\n",
              "4730  2017-11-08  211.8500  212.0000  207.2400  209.1600  13033902        0\n",
              "4731  2017-11-09  205.2700  206.3300  200.3700  205.3200  23895006        0\n",
              "4732  2017-11-10  213.0800  218.6700  211.6300  216.1400  31300857        0\n",
              "\n",
              "[4733 rows x 7 columns]"
            ]
          },
          "execution_count": 1,
          "metadata": {},
          "output_type": "execute_result"
        }
      ],
      "source": [
        "import pandas as pd\n",
        "from sklearn.preprocessing import MinMaxScaler\n",
        "\n",
        "df = pd.read_csv('nvda.us.txt')\n",
        "df"
      ]
    },
    {
      "cell_type": "code",
      "execution_count": 2,
      "id": "97f3e5ca-600c-42f6-88d2-8e057ca2c612",
      "metadata": {
        "id": "97f3e5ca-600c-42f6-88d2-8e057ca2c612"
      },
      "outputs": [
        {
          "data": {
            "image/png": "[encoded data removed]",
            "text/plain": [
              "<Figure size 1500x500 with 1 Axes>"
            ]
          },
          "metadata": {},
          "output_type": "display_data"
        }
      ],
      "source": [
        "plot = df.plot('Date', 'High', figsize=(15, 5))"
      ]
    },
    {
      "cell_type": "code",
      "execution_count": 3,
      "id": "34241797-60f0-4818-a44b-f5379948d621",
      "metadata": {
        "id": "34241797-60f0-4818-a44b-f5379948d621"
      },
      "outputs": [
        {
          "data": {
            "text/plain": [
              "Index(['Date', 'Open', 'High', 'Low', 'Close', 'Volume', 'OpenInt'], dtype='object')"
            ]
          },
          "execution_count": 3,
          "metadata": {},
          "output_type": "execute_result"
        }
      ],
      "source": [
        "df.columns"
      ]
    },
    {
      "cell_type": "code",
      "execution_count": 4,
      "id": "026585db-a6d8-4062-85de-e3a7eaebed72",
      "metadata": {
        "id": "026585db-a6d8-4062-85de-e3a7eaebed72"
      },
      "outputs": [
        {
          "name": "stdout",
          "output_type": "stream",
          "text": [
            "<class 'pandas.core.frame.DataFrame'>\n",
            "RangeIndex: 4733 entries, 0 to 4732\n",
            "Data columns (total 7 columns):\n",
            " #   Column   Non-Null Count  Dtype  \n",
            "---  ------   --------------  -----  \n",
            " 0   Date     4733 non-null   object \n",
            " 1   Open     4733 non-null   float64\n",
            " 2   High     4733 non-null   float64\n",
            " 3   Low      4733 non-null   float64\n",
            " 4   Close    4733 non-null   float64\n",
            " 5   Volume   4733 non-null   int64  \n",
            " 6   OpenInt  4733 non-null   int64  \n",
            "dtypes: float64(4), int64(2), object(1)\n",
            "memory usage: 259.0+ KB\n"
          ]
        }
      ],
      "source": [
        "df.info()"
      ]
    },
    {
      "cell_type": "code",
      "execution_count": 5,
      "id": "69031e6d-0fb5-49d9-b723-a0d1fee08c3c",
      "metadata": {
        "id": "69031e6d-0fb5-49d9-b723-a0d1fee08c3c"
      },
      "outputs": [
        {
          "data": {
            "text/plain": [
              "Date       0\n",
              "Open       0\n",
              "High       0\n",
              "Low        0\n",
              "Close      0\n",
              "Volume     0\n",
              "OpenInt    0\n",
              "dtype: int64"
            ]
          },
          "execution_count": 5,
          "metadata": {},
          "output_type": "execute_result"
        }
      ],
      "source": [
        "# checking for null values\n",
        "df.isnull().sum()"
      ]
    },
    {
      "cell_type": "code",
      "execution_count": 6,
      "id": "cb3090f8-2cfa-4f56-8aa5-cf954bb19932",
      "metadata": {
        "id": "cb3090f8-2cfa-4f56-8aa5-cf954bb19932"
      },
      "outputs": [],
      "source": [
        "df = df.dropna()"
      ]
    },
    {
      "cell_type": "code",
      "execution_count": 7,
      "id": "38aadbee-d68f-4ae0-b842-b40800b0cac9",
      "metadata": {
        "id": "38aadbee-d68f-4ae0-b842-b40800b0cac9"
      },
      "outputs": [
        {
          "data": {
            "text/plain": [
              "(4733, 7)"
            ]
          },
          "execution_count": 7,
          "metadata": {},
          "output_type": "execute_result"
        }
      ],
      "source": [
        "df.shape"
      ]
    },
    {
      "cell_type": "code",
      "execution_count": 8,
      "id": "051108c6-7011-4187-9e36-bd2944a019ca",
      "metadata": {
        "id": "051108c6-7011-4187-9e36-bd2944a019ca"
      },
      "outputs": [
        {
          "data": {
            "text/html": [
              "<div>\n",
              "<style scoped>\n",
              "    .dataframe tbody tr th:only-of-type {\n",
              "        vertical-align: middle;\n",
              "    }\n",
              "\n",
              "    .dataframe tbody tr th {\n",
              "        vertical-align: top;\n",
              "    }\n",
              "\n",
              "    .dataframe thead th {\n",
              "        text-align: right;\n",
              "    }\n",
              "</style>\n",
              "<table border=\"1\" class=\"dataframe\">\n",
              "  <thead>\n",
              "    <tr style=\"text-align: right;\">\n",
              "      <th></th>\n",
              "      <th>Open</th>\n",
              "      <th>High</th>\n",
              "      <th>Low</th>\n",
              "      <th>Close</th>\n",
              "      <th>Volume</th>\n",
              "      <th>OpenInt</th>\n",
              "    </tr>\n",
              "  </thead>\n",
              "  <tbody>\n",
              "    <tr>\n",
              "      <th>count</th>\n",
              "      <td>4733.000000</td>\n",
              "      <td>4733.000000</td>\n",
              "      <td>4733.000000</td>\n",
              "      <td>4733.000000</td>\n",
              "      <td>4.733000e+03</td>\n",
              "      <td>4733.0</td>\n",
              "    </tr>\n",
              "    <tr>\n",
              "      <th>mean</th>\n",
              "      <td>20.796242</td>\n",
              "      <td>21.157332</td>\n",
              "      <td>20.420417</td>\n",
              "      <td>20.805404</td>\n",
              "      <td>1.615287e+07</td>\n",
              "      <td>0.0</td>\n",
              "    </tr>\n",
              "    <tr>\n",
              "      <th>std</th>\n",
              "      <td>30.236284</td>\n",
              "      <td>30.615622</td>\n",
              "      <td>29.792958</td>\n",
              "      <td>30.263705</td>\n",
              "      <td>1.272446e+07</td>\n",
              "      <td>0.0</td>\n",
              "    </tr>\n",
              "    <tr>\n",
              "      <th>min</th>\n",
              "      <td>1.298900</td>\n",
              "      <td>1.317500</td>\n",
              "      <td>1.233900</td>\n",
              "      <td>1.261900</td>\n",
              "      <td>0.000000e+00</td>\n",
              "      <td>0.0</td>\n",
              "    </tr>\n",
              "    <tr>\n",
              "      <th>25%</th>\n",
              "      <td>7.988300</td>\n",
              "      <td>8.247900</td>\n",
              "      <td>7.756400</td>\n",
              "      <td>7.978900</td>\n",
              "      <td>8.181100e+06</td>\n",
              "      <td>0.0</td>\n",
              "    </tr>\n",
              "    <tr>\n",
              "      <th>50%</th>\n",
              "      <td>12.963000</td>\n",
              "      <td>13.238000</td>\n",
              "      <td>12.721000</td>\n",
              "      <td>12.990000</td>\n",
              "      <td>1.390271e+07</td>\n",
              "      <td>0.0</td>\n",
              "    </tr>\n",
              "    <tr>\n",
              "      <th>75%</th>\n",
              "      <td>19.141000</td>\n",
              "      <td>19.418000</td>\n",
              "      <td>18.778000</td>\n",
              "      <td>19.106000</td>\n",
              "      <td>2.051602e+07</td>\n",
              "      <td>0.0</td>\n",
              "    </tr>\n",
              "    <tr>\n",
              "      <th>max</th>\n",
              "      <td>213.080000</td>\n",
              "      <td>218.670000</td>\n",
              "      <td>211.630000</td>\n",
              "      <td>216.140000</td>\n",
              "      <td>2.496659e+08</td>\n",
              "      <td>0.0</td>\n",
              "    </tr>\n",
              "  </tbody>\n",
              "</table>\n",
              "</div>"
            ],
            "text/plain": [
              "              Open         High          Low        Close        Volume  \\\n",
              "count  4733.000000  4733.000000  4733.000000  4733.000000  4.733000e+03   \n",
              "mean     20.796242    21.157332    20.420417    20.805404  1.615287e+07   \n",
              "std      30.236284    30.615622    29.792958    30.263705  1.272446e+07   \n",
              "min       1.298900     1.317500     1.233900     1.261900  0.000000e+00   \n",
              "25%       7.988300     8.247900     7.756400     7.978900  8.181100e+06   \n",
              "50%      12.963000    13.238000    12.721000    12.990000  1.390271e+07   \n",
              "75%      19.141000    19.418000    18.778000    19.106000  2.051602e+07   \n",
              "max     213.080000   218.670000   211.630000   216.140000  2.496659e+08   \n",
              "\n",
              "       OpenInt  \n",
              "count   4733.0  \n",
              "mean       0.0  \n",
              "std        0.0  \n",
              "min        0.0  \n",
              "25%        0.0  \n",
              "50%        0.0  \n",
              "75%        0.0  \n",
              "max        0.0  "
            ]
          },
          "execution_count": 8,
          "metadata": {},
          "output_type": "execute_result"
        }
      ],
      "source": [
        "df.describe()"
      ]
    },
    {
      "cell_type": "markdown",
      "id": "8ce7a0c5-76d6-4863-ba61-0544a220962a",
      "metadata": {
        "id": "8ce7a0c5-76d6-4863-ba61-0544a220962a"
      },
      "source": [
        "#### Converting the DataFrame to a NumPy Array"
      ]
    },
    {
      "cell_type": "code",
      "execution_count": 9,
      "id": "5735baad-2db8-4306-aa4c-7788d2b49621",
      "metadata": {
        "id": "5735baad-2db8-4306-aa4c-7788d2b49621"
      },
      "outputs": [],
      "source": [
        "def create_sequences(input_data, output_data, window_size,step_size):\n",
        "    sequences = []\n",
        "    labels = []\n",
        "    for i in range(0, len(input_data) - window_size,step_size):#why不用+1\n",
        "        # print(i) \n",
        "        sequences.append(input_data[i:(i + window_size)])\n",
        "        labels.append(output_data[i + window_size])\n",
        "    # print(len(sequences))\n",
        "    return np.array(sequences), np.array(labels)"
      ]
    },
    {
      "cell_type": "code",
      "execution_count": 10,
      "id": "29b8e189-7f39-435a-8038-39098b147325",
      "metadata": {
        "id": "29b8e189-7f39-435a-8038-39098b147325"
      },
      "outputs": [
        {
          "name": "stdout",
          "output_type": "stream",
          "text": [
            "最小值:\n",
            "Open     1.2989\n",
            "High     1.3175\n",
            "Low      1.2339\n",
            "Close    1.2619\n",
            "dtype: float64\n",
            "\n",
            "最大值:\n",
            "Open     213.08\n",
            "High     218.67\n",
            "Low      211.63\n",
            "Close    216.14\n",
            "dtype: float64\n",
            "Shape of data X: (4718, 15, 4)\n",
            "Shape of data y: (4718,)\n"
          ]
        }
      ],
      "source": [
        "import numpy as np\n",
        "import torch\n",
        "from torch.utils.data import DataLoader, TensorDataset\n",
        "import matplotlib.pyplot as plt\n",
        "\n",
        "scaler = MinMaxScaler(feature_range=(0,1))\n",
        "\n",
        "# Select features\n",
        "features = scaler.fit_transform(df[['Open', 'High', 'Low', 'Close']]) \n",
        "labels = df['High'].shift(-1)  # Next day's high price as label\n",
        "\n",
        "min_values = df[['Open', 'High', 'Low', 'Close']].min()\n",
        "max_values = df[['Open', 'High', 'Low', 'Close']].max()\n",
        "\n",
        "print(\"最小值:\")\n",
        "print(min_values)\n",
        "print(\"\\n最大值:\")\n",
        "print(max_values)\n",
        "X, y = create_sequences(features, labels, window_size=15,step_size=1)\n",
        "\n",
        "\n",
        "print(f'Shape of data X: {X.shape}')\n",
        "print(f'Shape of data y: {y.shape}')\n",
        "\n"
      ]
    },
    {
      "cell_type": "code",
      "execution_count": 11,
      "id": "1a6e2bac",
      "metadata": {},
      "outputs": [
        {
          "data": {
            "text/html": [
              "<div>\n",
              "<style scoped>\n",
              "    .dataframe tbody tr th:only-of-type {\n",
              "        vertical-align: middle;\n",
              "    }\n",
              "\n",
              "    .dataframe tbody tr th {\n",
              "        vertical-align: top;\n",
              "    }\n",
              "\n",
              "    .dataframe thead th {\n",
              "        text-align: right;\n",
              "    }\n",
              "</style>\n",
              "<table border=\"1\" class=\"dataframe\">\n",
              "  <thead>\n",
              "    <tr style=\"text-align: right;\">\n",
              "      <th></th>\n",
              "      <th>Open</th>\n",
              "      <th>High</th>\n",
              "      <th>Low</th>\n",
              "      <th>Close</th>\n",
              "    </tr>\n",
              "  </thead>\n",
              "  <tbody>\n",
              "    <tr>\n",
              "      <th>0</th>\n",
              "      <td>1.6238</td>\n",
              "      <td>1.8092</td>\n",
              "      <td>1.4379</td>\n",
              "      <td>1.5215</td>\n",
              "    </tr>\n",
              "    <tr>\n",
              "      <th>1</th>\n",
              "      <td>1.6423</td>\n",
              "      <td>1.6980</td>\n",
              "      <td>1.5215</td>\n",
              "      <td>1.6793</td>\n",
              "    </tr>\n",
              "    <tr>\n",
              "      <th>2</th>\n",
              "      <td>1.6980</td>\n",
              "      <td>1.7350</td>\n",
              "      <td>1.5311</td>\n",
              "      <td>1.5494</td>\n",
              "    </tr>\n",
              "    <tr>\n",
              "      <th>3</th>\n",
              "      <td>1.5586</td>\n",
              "      <td>1.5957</td>\n",
              "      <td>1.4660</td>\n",
              "      <td>1.5494</td>\n",
              "    </tr>\n",
              "    <tr>\n",
              "      <th>4</th>\n",
              "      <td>1.5494</td>\n",
              "      <td>1.5586</td>\n",
              "      <td>1.5311</td>\n",
              "      <td>1.5401</td>\n",
              "    </tr>\n",
              "    <tr>\n",
              "      <th>...</th>\n",
              "      <td>...</td>\n",
              "      <td>...</td>\n",
              "      <td>...</td>\n",
              "      <td>...</td>\n",
              "    </tr>\n",
              "    <tr>\n",
              "      <th>4728</th>\n",
              "      <td>207.2000</td>\n",
              "      <td>209.9800</td>\n",
              "      <td>206.7000</td>\n",
              "      <td>209.6300</td>\n",
              "    </tr>\n",
              "    <tr>\n",
              "      <th>4729</th>\n",
              "      <td>210.5500</td>\n",
              "      <td>212.9000</td>\n",
              "      <td>210.0560</td>\n",
              "      <td>212.0000</td>\n",
              "    </tr>\n",
              "    <tr>\n",
              "      <th>4730</th>\n",
              "      <td>211.8500</td>\n",
              "      <td>212.0000</td>\n",
              "      <td>207.2400</td>\n",
              "      <td>209.1600</td>\n",
              "    </tr>\n",
              "    <tr>\n",
              "      <th>4731</th>\n",
              "      <td>205.2700</td>\n",
              "      <td>206.3300</td>\n",
              "      <td>200.3700</td>\n",
              "      <td>205.3200</td>\n",
              "    </tr>\n",
              "    <tr>\n",
              "      <th>4732</th>\n",
              "      <td>213.0800</td>\n",
              "      <td>218.6700</td>\n",
              "      <td>211.6300</td>\n",
              "      <td>216.1400</td>\n",
              "    </tr>\n",
              "  </tbody>\n",
              "</table>\n",
              "<p>4733 rows × 4 columns</p>\n",
              "</div>"
            ],
            "text/plain": [
              "          Open      High       Low     Close\n",
              "0       1.6238    1.8092    1.4379    1.5215\n",
              "1       1.6423    1.6980    1.5215    1.6793\n",
              "2       1.6980    1.7350    1.5311    1.5494\n",
              "3       1.5586    1.5957    1.4660    1.5494\n",
              "4       1.5494    1.5586    1.5311    1.5401\n",
              "...        ...       ...       ...       ...\n",
              "4728  207.2000  209.9800  206.7000  209.6300\n",
              "4729  210.5500  212.9000  210.0560  212.0000\n",
              "4730  211.8500  212.0000  207.2400  209.1600\n",
              "4731  205.2700  206.3300  200.3700  205.3200\n",
              "4732  213.0800  218.6700  211.6300  216.1400\n",
              "\n",
              "[4733 rows x 4 columns]"
            ]
          },
          "execution_count": 11,
          "metadata": {},
          "output_type": "execute_result"
        }
      ],
      "source": [
        "df[['Open', 'High', 'Low', 'Close']]"
      ]
    },
    {
      "cell_type": "code",
      "execution_count": 12,
      "id": "995e5269",
      "metadata": {},
      "outputs": [],
      "source": [
        "# print(\"First batch of data:\")\n",
        "# for i in range(10):\n",
        "#     print(\"Sequence:\", X[i])\n",
        "#     print(\"Label:\", y[i])\n",
        "#     print()\n"
      ]
    },
    {
      "cell_type": "code",
      "execution_count": 13,
      "id": "b9922543",
      "metadata": {},
      "outputs": [
        {
          "name": "stdout",
          "output_type": "stream",
          "text": [
            "4247\n",
            "Shape of data x_train: (3397, 15, 4)\n",
            "Shape of data y_train: (3397,)\n",
            "Shape of data x_val: (850, 15, 4)\n",
            "Shape of data y_val: (850,)\n",
            "Shape of data x_test: (471, 15, 4)\n",
            "Shape of data y_test: (471,)\n",
            "torch.Size([32, 15, 4])\n",
            "Number of samples in training and validation are 3397 and 850.\n"
          ]
        }
      ],
      "source": [
        "# split the hold-out tests\n",
        "ind = np.linspace(0, len(X)-1, num=int(len(X)*0.1), dtype=int) # 10% hold-out 19筆test\n",
        "x_test = X[ind]\n",
        "# print(x_test.shape)\n",
        "y_test = y[ind]\n",
        "all_ind = np.arange(len(X))\n",
        "remains_ind = np.delete(all_ind, ind)\n",
        "\n",
        "X = X[remains_ind]\n",
        "y = y[remains_ind]\n",
        "\n",
        "# shuffle dataset\n",
        "ind = np.random.permutation(len(X)) #178\n",
        "print(len(X))\n",
        "\n",
        "X = X[ind]\n",
        "y = y[ind]\n",
        "split_point = int(X.shape[0]*0.8)\n",
        "\n",
        "x_train = X[:split_point]\n",
        "y_train = y[:split_point]\n",
        "x_val = X[split_point:]\n",
        "y_val = y[split_point:]\n",
        "\n",
        "print(f'Shape of data x_train: {x_train.shape}')\n",
        "print(f'Shape of data y_train: {y_train.shape}')\n",
        "print(f'Shape of data x_val: {x_val.shape}')\n",
        "print(f'Shape of data y_val: {y_val.shape}')\n",
        "print(f'Shape of data x_test: {x_test.shape}')\n",
        "print(f'Shape of data y_test: {y_test.shape}')\n",
        "\n",
        "# Convert to PyTorch tensors\n",
        "x_train = torch.from_numpy(x_train).float()\n",
        "y_train = torch.from_numpy(y_train).float()\n",
        "\n",
        "x_val = torch.from_numpy(x_val).float()\n",
        "y_val = torch.from_numpy(y_val).float()\n",
        "\n",
        "x_test = torch.from_numpy(x_test).float()\n",
        "y_test = torch.from_numpy(y_test).float()\n",
        "\n",
        "batch_size = 32\n",
        "\n",
        "# Create datasets\n",
        "train_dataset = TensorDataset(x_train, y_train)\n",
        "val_dataset = TensorDataset(x_val, y_val)\n",
        "test_dataset = TensorDataset(x_test, y_test)\n",
        "\n",
        "# Create dataloaders\n",
        "train_loader = DataLoader(train_dataset, batch_size=batch_size, shuffle=True)\n",
        "val_loader = DataLoader(val_dataset, batch_size=batch_size, shuffle=False)\n",
        "test_loader = DataLoader(test_dataset, batch_size=batch_size, shuffle=False)\n",
        "x,y=next(iter(train_loader))\n",
        "print(x.shape)\n",
        "print(f'Number of samples in training and validation are {len(train_loader.dataset)} and {len(val_loader.dataset)}.')"
      ]
    },
    {
      "cell_type": "markdown",
      "id": "8ffc26b9-6044-41e9-93e2-7dc6250dbd27",
      "metadata": {
        "id": "8ffc26b9-6044-41e9-93e2-7dc6250dbd27"
      },
      "source": [
        "## B. Defining Neural Networks"
      ]
    },
    {
      "cell_type": "code",
      "execution_count": 14,
      "id": "77975746-a7a7-4676-9527-57674cd98c0f",
      "metadata": {
        "id": "77975746-a7a7-4676-9527-57674cd98c0f"
      },
      "outputs": [],
      "source": [
        "import torch.nn as nn\n",
        "\n",
        "class LSTMModel(nn.Module):\n",
        "    def __init__(self, input_dim, hidden_dim, num_layers, output_dim):\n",
        "        super().__init__()\n",
        "        self.hidden_dim = hidden_dim\n",
        "        self.num_layers = num_layers\n",
        "        self.lstm = nn.LSTM(input_dim, hidden_dim, num_layers, batch_first=True)\n",
        "        self.fc = nn.Linear(hidden_dim, output_dim)\n",
        "\n",
        "    def forward(self, x):\n",
        "        out, _ = self.lstm(x)\n",
        "        out = self.fc(out[:, -1, :])\n",
        "        return out"
      ]
    },
    {
      "cell_type": "markdown",
      "id": "cbb8b5b0-0ec0-406c-a42e-048aa00e05aa",
      "metadata": {
        "id": "cbb8b5b0-0ec0-406c-a42e-048aa00e05aa"
      },
      "source": [
        "## C. Training the Neural Network"
      ]
    },
    {
      "cell_type": "code",
      "execution_count": 15,
      "id": "3602ae7d-4034-4c49-b221-0c12a5824b18",
      "metadata": {
        "id": "3602ae7d-4034-4c49-b221-0c12a5824b18"
      },
      "outputs": [
        {
          "name": "stdout",
          "output_type": "stream",
          "text": [
            "Thu May  2 10:59:00 2024       \n",
            "+---------------------------------------------------------------------------------------+\n",
            "| NVIDIA-SMI 536.23                 Driver Version: 536.23       CUDA Version: 12.2     |\n",
            "|-----------------------------------------+----------------------+----------------------+\n",
            "| GPU  Name                     TCC/WDDM  | Bus-Id        Disp.A | Volatile Uncorr. ECC |\n",
            "| Fan  Temp   Perf          Pwr:Usage/Cap |         Memory-Usage | GPU-Util  Compute M. |\n",
            "|                                         |                      |               MIG M. |\n",
            "|=========================================+======================+======================|\n",
            "|   0  NVIDIA GeForce GTX 1050      WDDM  | 00000000:01:00.0  On |                  N/A |\n",
            "| 33%   57C    P0              N/A /  70W |   1836MiB /  2048MiB |    100%      Default |\n",
            "|                                         |                      |                  N/A |\n",
            "+-----------------------------------------+----------------------+----------------------+\n",
            "                                                                                         \n",
            "+---------------------------------------------------------------------------------------+\n",
            "| Processes:                                                                            |\n",
            "|  GPU   GI   CI        PID   Type   Process name                            GPU Memory |\n",
            "|        ID   ID                                                             Usage      |\n",
            "|=======================================================================================|\n",
            "|    0   N/A  N/A      3500    C+G   ...1.0_x64__8wekyb3d8bbwe\\Video.UI.exe    N/A      |\n",
            "|    0   N/A  N/A      4172    C+G   ...t Office\\root\\Office16\\POWERPNT.EXE    N/A      |\n",
            "|    0   N/A  N/A      4868    C+G   ...Programs\\Microsoft VS Code\\Code.exe    N/A      |\n",
            "|    0   N/A  N/A      7288    C+G   ...ft Office\\root\\Office16\\WINWORD.EXE    N/A      |\n",
            "|    0   N/A  N/A      8428    C+G   ....Search_cw5n1h2txyewy\\SearchApp.exe    N/A      |\n",
            "|    0   N/A  N/A      8476    C+G   C:\\Windows\\explorer.exe                   N/A      |\n",
            "|    0   N/A  N/A     10212    C+G   ...2txyewy\\StartMenuExperienceHost.exe    N/A      |\n",
            "|    0   N/A  N/A     10280    C+G   ...siveControlPanel\\SystemSettings.exe    N/A      |\n",
            "|    0   N/A  N/A     10552    C+G   ...5n1h2txyewy\\ShellExperienceHost.exe    N/A      |\n",
            "|    0   N/A  N/A     11208    C+G   ...CBS_cw5n1h2txyewy\\TextInputHost.exe    N/A      |\n",
            "|    0   N/A  N/A     11596    C+G   ...soft Office\\root\\Office16\\EXCEL.EXE    N/A      |\n",
            "|    0   N/A  N/A     12224    C+G   ...les\\Microsoft OneDrive\\OneDrive.exe    N/A      |\n",
            "|    0   N/A  N/A     13000    C+G   ...on\\124.0.2478.67\\msedgewebview2.exe    N/A      |\n",
            "|    0   N/A  N/A     15504    C+G   ...t.LockApp_cw5n1h2txyewy\\LockApp.exe    N/A      |\n",
            "|    0   N/A  N/A     19092    C+G   ...oogle\\Chrome\\Application\\chrome.exe    N/A      |\n",
            "|    0   N/A  N/A     19608    C+G   ....Search_cw5n1h2txyewy\\SearchApp.exe    N/A      |\n",
            "|    0   N/A  N/A     20296    C+G   ...ekyb3d8bbwe\\PhoneExperienceHost.exe    N/A      |\n",
            "|    0   N/A  N/A     20416    C+G   ...crosoft\\Edge\\Application\\msedge.exe    N/A      |\n",
            "|    0   N/A  N/A     21672    C+G   ...973_x64__8wekyb3d8bbwe\\ms-teams.exe    N/A      |\n",
            "+---------------------------------------------------------------------------------------+\n"
          ]
        }
      ],
      "source": [
        "# Check your GPU status.\n",
        "!nvidia-smi"
      ]
    },
    {
      "cell_type": "code",
      "execution_count": 16,
      "id": "f73a5c35-c15d-49bb-8a33-a7f017159499",
      "metadata": {
        "id": "f73a5c35-c15d-49bb-8a33-a7f017159499"
      },
      "outputs": [
        {
          "name": "stdout",
          "output_type": "stream",
          "text": [
            "LSTMModel(\n",
            "  (lstm): LSTM(4, 500, num_layers=2, batch_first=True)\n",
            "  (fc): Linear(in_features=500, out_features=1, bias=True)\n",
            ")\n"
          ]
        },
        {
          "data": {
            "application/vnd.jupyter.widget-view+json": {
              "model_id": "f4338858444e4c4f874fa1a5581bc138",
              "version_major": 2,
              "version_minor": 0
            },
            "text/plain": [
              "  0%|          | 0/100 [00:00<?, ?it/s]"
            ]
          },
          "metadata": {},
          "output_type": "display_data"
        },
        {
          "name": "stdout",
          "output_type": "stream",
          "text": [
            "Epoch 1/100, Train loss: 944.2576, Val loss: 1011.5481, Best Val loss: 1011.5481\n",
            "Epoch 2/100, Train loss: 928.7674, Val loss: 1006.2356, Best Val loss: 1006.2356\n",
            "Epoch 3/100, Train loss: 926.2068, Val loss: 1021.3113, Best Val loss: 1006.2356\n",
            "Epoch 4/100, Train loss: 924.9886, Val loss: 1005.3387, Best Val loss: 1005.3387\n",
            "Epoch 5/100, Train loss: 929.4084, Val loss: 1004.8243, Best Val loss: 1004.8243\n",
            "Epoch 6/100, Train loss: 929.2614, Val loss: 1009.9700, Best Val loss: 1004.8243\n",
            "Epoch 7/100, Train loss: 932.5114, Val loss: 1005.3397, Best Val loss: 1004.8243\n",
            "Epoch 8/100, Train loss: 926.5856, Val loss: 1010.8490, Best Val loss: 1004.8243\n",
            "Epoch 9/100, Train loss: 928.0171, Val loss: 1005.5793, Best Val loss: 1004.8243\n",
            "Epoch 10/100, Train loss: 927.4491, Val loss: 1004.9191, Best Val loss: 1004.8243\n",
            "Epoch 11/100, Train loss: 965.6505, Val loss: 1015.1470, Best Val loss: 1004.8243\n",
            "Epoch 12/100, Train loss: 939.3140, Val loss: 1004.8949, Best Val loss: 1004.8243\n",
            "Epoch 13/100, Train loss: 928.5640, Val loss: 1005.1851, Best Val loss: 1004.8243\n",
            "Epoch 14/100, Train loss: 926.9453, Val loss: 1006.5935, Best Val loss: 1004.8243\n",
            "Epoch 15/100, Train loss: 928.1176, Val loss: 1005.9024, Best Val loss: 1004.8243\n",
            "Epoch 16/100, Train loss: 926.7906, Val loss: 1005.0531, Best Val loss: 1004.8243\n",
            "Epoch 17/100, Train loss: 925.3167, Val loss: 1004.8943, Best Val loss: 1004.8243\n",
            "Epoch 18/100, Train loss: 928.6393, Val loss: 1006.5743, Best Val loss: 1004.8243\n",
            "Epoch 19/100, Train loss: 955.9638, Val loss: 1008.2640, Best Val loss: 1004.8243\n",
            "Epoch 20/100, Train loss: 926.5083, Val loss: 1016.7672, Best Val loss: 1004.8243\n",
            "Epoch 21/100, Train loss: 926.7339, Val loss: 1008.4599, Best Val loss: 1004.8243\n",
            "Epoch 22/100, Train loss: 928.2050, Val loss: 1005.9460, Best Val loss: 1004.8243\n",
            "Epoch 23/100, Train loss: 951.6042, Val loss: 1006.5779, Best Val loss: 1004.8243\n",
            "Epoch 24/100, Train loss: 928.7475, Val loss: 1006.3547, Best Val loss: 1004.8243\n",
            "Epoch 25/100, Train loss: 931.2401, Val loss: 1006.6690, Best Val loss: 1004.8243\n",
            "Epoch 26/100, Train loss: 927.4823, Val loss: 1016.4700, Best Val loss: 1004.8243\n",
            "Epoch 27/100, Train loss: 928.0872, Val loss: 1005.8715, Best Val loss: 1004.8243\n",
            "Epoch 28/100, Train loss: 928.1191, Val loss: 1011.3361, Best Val loss: 1004.8243\n",
            "Epoch 29/100, Train loss: 926.5880, Val loss: 1005.0084, Best Val loss: 1004.8243\n",
            "Epoch 30/100, Train loss: 969.5187, Val loss: 1011.4304, Best Val loss: 1004.8243\n",
            "Epoch 31/100, Train loss: 926.4875, Val loss: 1004.9164, Best Val loss: 1004.8243\n",
            "Epoch 32/100, Train loss: 926.9680, Val loss: 1009.9905, Best Val loss: 1004.8243\n",
            "Epoch 33/100, Train loss: 943.7460, Val loss: 1005.1203, Best Val loss: 1004.8243\n",
            "Epoch 34/100, Train loss: 961.8381, Val loss: 1012.2376, Best Val loss: 1004.8243\n",
            "Epoch 35/100, Train loss: 926.7070, Val loss: 1004.8245, Best Val loss: 1004.8243\n",
            "Epoch 36/100, Train loss: 924.5158, Val loss: 1004.8591, Best Val loss: 1004.8243\n",
            "Epoch 37/100, Train loss: 924.2776, Val loss: 1027.8042, Best Val loss: 1004.8243\n",
            "Epoch 38/100, Train loss: 937.8340, Val loss: 1013.0413, Best Val loss: 1004.8243\n",
            "Epoch 39/100, Train loss: 959.3731, Val loss: 1008.1057, Best Val loss: 1004.8243\n",
            "Epoch 40/100, Train loss: 928.1947, Val loss: 1006.7276, Best Val loss: 1004.8243\n",
            "Epoch 41/100, Train loss: 926.1532, Val loss: 1012.6818, Best Val loss: 1004.8243\n",
            "Epoch 42/100, Train loss: 926.3596, Val loss: 1013.7884, Best Val loss: 1004.8243\n",
            "Epoch 43/100, Train loss: 924.5390, Val loss: 1007.6792, Best Val loss: 1004.8243\n",
            "Epoch 44/100, Train loss: 982.7154, Val loss: 1004.9506, Best Val loss: 1004.8243\n",
            "Epoch 45/100, Train loss: 927.2727, Val loss: 1012.3188, Best Val loss: 1004.8243\n",
            "Epoch 46/100, Train loss: 924.9745, Val loss: 1018.9611, Best Val loss: 1004.8243\n",
            "Epoch 47/100, Train loss: 926.5988, Val loss: 1005.7209, Best Val loss: 1004.8243\n",
            "Epoch 48/100, Train loss: 925.7279, Val loss: 1008.8422, Best Val loss: 1004.8243\n",
            "Epoch 49/100, Train loss: 926.6045, Val loss: 1004.8729, Best Val loss: 1004.8243\n",
            "Epoch 50/100, Train loss: 927.1003, Val loss: 1004.8330, Best Val loss: 1004.8243\n",
            "Epoch 51/100, Train loss: 928.1532, Val loss: 1006.6799, Best Val loss: 1004.8243\n",
            "Epoch 52/100, Train loss: 925.4805, Val loss: 1008.4331, Best Val loss: 1004.8243\n",
            "Epoch 53/100, Train loss: 926.2148, Val loss: 1007.9820, Best Val loss: 1004.8243\n",
            "Epoch 54/100, Train loss: 926.6343, Val loss: 1014.2661, Best Val loss: 1004.8243\n",
            "Epoch 55/100, Train loss: 963.8073, Val loss: 1007.4928, Best Val loss: 1004.8243\n",
            "Epoch 56/100, Train loss: 927.2367, Val loss: 1006.5438, Best Val loss: 1004.8243\n",
            "Epoch 57/100, Train loss: 934.2296, Val loss: 1007.4720, Best Val loss: 1004.8243\n",
            "Epoch 58/100, Train loss: 933.7347, Val loss: 1009.1816, Best Val loss: 1004.8243\n",
            "Epoch 59/100, Train loss: 925.3877, Val loss: 1005.7374, Best Val loss: 1004.8243\n",
            "Epoch 60/100, Train loss: 926.1291, Val loss: 1010.6825, Best Val loss: 1004.8243\n",
            "Epoch 61/100, Train loss: 928.2029, Val loss: 1004.9135, Best Val loss: 1004.8243\n",
            "Epoch 62/100, Train loss: 925.6844, Val loss: 1010.6390, Best Val loss: 1004.8243\n",
            "Epoch 63/100, Train loss: 925.4307, Val loss: 1007.4066, Best Val loss: 1004.8243\n",
            "Epoch 64/100, Train loss: 924.2875, Val loss: 1009.2871, Best Val loss: 1004.8243\n",
            "Epoch 65/100, Train loss: 925.8992, Val loss: 1005.5283, Best Val loss: 1004.8243\n",
            "Epoch 66/100, Train loss: 924.6384, Val loss: 1005.1353, Best Val loss: 1004.8243\n",
            "Epoch 67/100, Train loss: 928.2900, Val loss: 1006.1952, Best Val loss: 1004.8243\n",
            "Epoch 68/100, Train loss: 926.1014, Val loss: 1005.8208, Best Val loss: 1004.8243\n",
            "Epoch 69/100, Train loss: 939.4552, Val loss: 1007.1051, Best Val loss: 1004.8243\n",
            "Epoch 70/100, Train loss: 924.3733, Val loss: 1006.1713, Best Val loss: 1004.8243\n",
            "Epoch 71/100, Train loss: 958.8907, Val loss: 1005.8209, Best Val loss: 1004.8243\n",
            "Epoch 72/100, Train loss: 937.9505, Val loss: 1004.8689, Best Val loss: 1004.8243\n",
            "Epoch 73/100, Train loss: 926.2492, Val loss: 1005.9863, Best Val loss: 1004.8243\n",
            "Epoch 74/100, Train loss: 924.4826, Val loss: 1005.4091, Best Val loss: 1004.8243\n",
            "Epoch 75/100, Train loss: 948.4353, Val loss: 1007.4167, Best Val loss: 1004.8243\n",
            "Epoch 76/100, Train loss: 924.9026, Val loss: 1006.5623, Best Val loss: 1004.8243\n",
            "Epoch 77/100, Train loss: 924.8142, Val loss: 1004.8413, Best Val loss: 1004.8243\n",
            "Epoch 78/100, Train loss: 924.7865, Val loss: 1006.6698, Best Val loss: 1004.8243\n",
            "Epoch 79/100, Train loss: 935.2531, Val loss: 1005.1342, Best Val loss: 1004.8243\n",
            "Epoch 80/100, Train loss: 926.4849, Val loss: 1005.1953, Best Val loss: 1004.8243\n",
            "Epoch 81/100, Train loss: 923.9953, Val loss: 1005.5124, Best Val loss: 1004.8243\n",
            "Epoch 82/100, Train loss: 985.4323, Val loss: 1006.3077, Best Val loss: 1004.8243\n",
            "Epoch 83/100, Train loss: 924.6240, Val loss: 1006.2347, Best Val loss: 1004.8243\n",
            "Epoch 84/100, Train loss: 923.6168, Val loss: 1006.4573, Best Val loss: 1004.8243\n",
            "Epoch 85/100, Train loss: 941.6095, Val loss: 1006.0992, Best Val loss: 1004.8243\n",
            "Epoch 86/100, Train loss: 924.2098, Val loss: 1006.1679, Best Val loss: 1004.8243\n",
            "Epoch 87/100, Train loss: 923.4723, Val loss: 1005.7829, Best Val loss: 1004.8243\n",
            "Epoch 88/100, Train loss: 924.4221, Val loss: 1005.9512, Best Val loss: 1004.8243\n",
            "Epoch 89/100, Train loss: 927.8878, Val loss: 1006.2761, Best Val loss: 1004.8243\n",
            "Epoch 90/100, Train loss: 925.6199, Val loss: 1006.1868, Best Val loss: 1004.8243\n",
            "Epoch 91/100, Train loss: 968.4825, Val loss: 1006.0202, Best Val loss: 1004.8243\n",
            "Epoch 92/100, Train loss: 956.6043, Val loss: 1005.8430, Best Val loss: 1004.8243\n",
            "Epoch 93/100, Train loss: 923.9277, Val loss: 1005.8734, Best Val loss: 1004.8243\n",
            "Epoch 94/100, Train loss: 926.8659, Val loss: 1005.9287, Best Val loss: 1004.8243\n",
            "Epoch 95/100, Train loss: 957.7719, Val loss: 1005.9665, Best Val loss: 1004.8243\n",
            "Epoch 96/100, Train loss: 923.5748, Val loss: 1005.8377, Best Val loss: 1004.8243\n",
            "Epoch 97/100, Train loss: 923.9432, Val loss: 1005.9026, Best Val loss: 1004.8243\n",
            "Epoch 98/100, Train loss: 924.2468, Val loss: 1005.9194, Best Val loss: 1004.8243\n",
            "Epoch 99/100, Train loss: 923.8179, Val loss: 1005.9164, Best Val loss: 1004.8243\n",
            "Epoch 100/100, Train loss: 923.7212, Val loss: 1005.9184, Best Val loss: 1004.8243\n"
          ]
        }
      ],
      "source": [
        "import torch.optim as optim\n",
        "from torch.optim.lr_scheduler import CosineAnnealingLR\n",
        "from tqdm.auto import tqdm\n",
        "\n",
        "train_losses = []\n",
        "val_losses = []\n",
        "\n",
        "epochs = 100\n",
        "\n",
        "model = LSTMModel(input_dim=4, hidden_dim=500, num_layers=2, output_dim=1).cuda()\n",
        "print(model)\n",
        "\n",
        "best_val_loss = float('inf')\n",
        "\n",
        "criterion = nn.MSELoss()\n",
        "optimizer = optim.Adam(model.parameters(), lr=5e-3)\n",
        "lr_scheduler = CosineAnnealingLR(optimizer, T_max=epochs, eta_min=0)\n",
        "\n",
        "for epoch in tqdm(range(epochs)):\n",
        "    # Training\n",
        "    model.train()\n",
        "    total_loss = 0.0\n",
        "\n",
        "    for features, labels in train_loader:\n",
        "        features = features.cuda()\n",
        "        labels = labels.cuda()\n",
        "        outputs = model(features).squeeze(-1)\n",
        "        loss = criterion(outputs, labels)\n",
        "        total_loss += loss.item()\n",
        "\n",
        "        optimizer.zero_grad()\n",
        "        loss.backward()\n",
        "        optimizer.step()\n",
        "\n",
        "    # Learning rate update\n",
        "    lr_scheduler.step()\n",
        "\n",
        "    avg_train_loss = total_loss / len(train_loader)\n",
        "\n",
        "    # Validation\n",
        "    model.eval()\n",
        "    total_val_loss = 0.0\n",
        "\n",
        "    with torch.no_grad():\n",
        "        for features, labels in val_loader:\n",
        "            features = features.cuda()\n",
        "            labels = labels.cuda()\n",
        "            outputs = model(features).squeeze(-1)\n",
        "            loss = criterion(outputs, labels)\n",
        "            total_val_loss += loss.item()\n",
        "\n",
        "    avg_val_loss = total_val_loss / len(val_loader)\n",
        "\n",
        "    # Checkpoint\n",
        "    if avg_val_loss < best_val_loss:\n",
        "        best_val_loss = avg_val_loss\n",
        "        torch.save(model.state_dict(), 'best_model.pth')\n",
        "\n",
        "    print(f'Epoch {epoch+1}/{epochs}, Train loss: {avg_train_loss:.4f}, Val loss: {avg_val_loss:.4f}, Best Val loss: {best_val_loss:.4f}')\n",
        "\n",
        "    # Store performance\n",
        "    train_losses.append(avg_train_loss)\n",
        "    val_losses.append(avg_val_loss)"
      ]
    },
    {
      "cell_type": "markdown",
      "id": "a7984c6e-6652-4160-b572-07d48bc93a3f",
      "metadata": {
        "id": "a7984c6e-6652-4160-b572-07d48bc93a3f"
      },
      "source": [
        "#### Visualizing the model performance"
      ]
    },
    {
      "cell_type": "code",
      "execution_count": 17,
      "id": "5559d850-1fb5-4b04-b6ca-60c5b309f34e",
      "metadata": {
        "id": "5559d850-1fb5-4b04-b6ca-60c5b309f34e"
      },
      "outputs": [
        {
          "data": {
            "image/png": "[encoded data removed]",
            "text/plain": [
              "<Figure size 1000x500 with 1 Axes>"
            ]
          },
          "metadata": {},
          "output_type": "display_data"
        }
      ],
      "source": [
        "#Epoch 100/100, Train loss: 299.5227, Val loss: 61.2128, Best Val loss: 61.2128\n",
        "\n",
        "import matplotlib.pyplot as plt\n",
        "\n",
        "plt.figure(figsize=(10, 5))\n",
        "plt.plot(train_losses)\n",
        "plt.plot(val_losses)\n",
        "plt.xlabel('Epochs')\n",
        "plt.ylabel('Loss')\n",
        "plt.legend(['Train', 'Val'])\n",
        "\n",
        "plt.show()"
      ]
    },
    {
      "cell_type": "markdown",
      "id": "89c7e51b-8ab6-4aa2-877d-39b6daf55c20",
      "metadata": {
        "id": "89c7e51b-8ab6-4aa2-877d-39b6daf55c20"
      },
      "source": [
        "## D. Evaluating Your Trained Model"
      ]
    },
    {
      "cell_type": "code",
      "execution_count": 18,
      "id": "4bcf8580-42ee-4ee7-ad15-9f080cc57a33",
      "metadata": {
        "id": "4bcf8580-42ee-4ee7-ad15-9f080cc57a33"
      },
      "outputs": [],
      "source": [
        "# Load the trained weights\n",
        "model.load_state_dict(torch.load('best_model.pth'))\n",
        "\n",
        "# Set the model to evaluation mode\n",
        "model.eval()\n",
        "\n",
        "test_correct = 0\n",
        "test_total = 0\n",
        "\n",
        "pred_value = []\n",
        "actual_value = []\n",
        "\n",
        "with torch.no_grad():\n",
        "    for features, labels in test_loader:\n",
        "        features = features.cuda()\n",
        "        outputs = model(features).squeeze(-1)\n",
        "        pred_value.append(outputs.cpu())\n",
        "        actual_value.append(labels)\n",
        "\n",
        "pred_value = torch.cat(pred_value)\n",
        "actual_value = torch.cat(actual_value)"
      ]
    },
    {
      "cell_type": "code",
      "execution_count": 19,
      "id": "dde4e0a5-32be-4db3-95fb-4fad8926ce9b",
      "metadata": {
        "id": "dde4e0a5-32be-4db3-95fb-4fad8926ce9b"
      },
      "outputs": [
        {
          "data": {
            "image/png": "[encoded data removed]",
            "text/plain": [
              "<Figure size 1000x500 with 1 Axes>"
            ]
          },
          "metadata": {},
          "output_type": "display_data"
        }
      ],
      "source": [
        "plt.figure(figsize=(10, 5))\n",
        "plt.plot(pred_value[:])\n",
        "plt.plot(actual_value[:])\n",
        "plt.xlabel('Day')\n",
        "plt.ylabel('Price')\n",
        "plt.legend(['Pred', 'Actual'])\n",
        "\n",
        "plt.show()"
      ]
    },
    {
      "cell_type": "code",
      "execution_count": null,
      "id": "LNOafPmRZUrE",
      "metadata": {
        "id": "LNOafPmRZUrE"
      },
      "outputs": [],
      "source": []
    }
  ],
  "metadata": {
    "accelerator": "GPU",
    "colab": {
      "gpuType": "T4",
      "provenance": []
    },
    "kernelspec": {
      "display_name": "Python 3",
      "name": "python3"
    },
    "language_info": {
      "codemirror_mode": {
        "name": "ipython",
        "version": 3
      },
      "file_extension": ".py",
      "mimetype": "text/x-python",
      "name": "python",
      "nbconvert_exporter": "python",
      "pygments_lexer": "ipython3",
      "version": "3.11.8"
    }
  },
  "nbformat": 4,
  "nbformat_minor": 5
}
